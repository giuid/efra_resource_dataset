{
 "cells": [
  {
   "cell_type": "code",
   "execution_count": 1,
   "id": "bec8dc70-5257-4fc3-865a-04a4e5b9aeb2",
   "metadata": {},
   "outputs": [],
   "source": [
    "import pandas as pd\n",
    "\n",
    "from rouge_score.rouge_scorer import RougeScorer\n",
    "\n",
    "from resources.data import load_data, get_unique"
   ]
  },
  {
   "cell_type": "code",
   "execution_count": 2,
   "id": "8c81fdee-5b49-4725-a563-69f2d0a7d2c0",
   "metadata": {},
   "outputs": [],
   "source": [
    "metrics = ['rouge1', 'rougeL', 'rougeLsum']\n",
    "scorer = RougeScorer(metrics)"
   ]
  },
  {
   "cell_type": "code",
   "execution_count": 3,
   "id": "76e02a17-c5d9-4c33-ba45-4e9d71bc3222",
   "metadata": {},
   "outputs": [
    {
     "name": "stdout",
     "output_type": "stream",
     "text": [
      "SQL query:      \"SELECT post_id, english_content_url, english_summary FROM `efra.summaries_v2_migrated` WHERE dataset = \"manual_summary\" LIMIT 100;\"\n"
     ]
    },
    {
     "name": "stderr",
     "output_type": "stream",
     "text": [
      "/home/h21/kora8563/CNR-summaries/resources/data.py:23: FutureWarning: read_gbq is deprecated and will be removed in a future version. Please use pandas_gbq.read_gbq instead: https://pandas-gbq.readthedocs.io/en/latest/api.html#pandas_gbq.read_gbq\n",
      "  def query_data(sql:str): return pd.read_gbq(sql, credentials=CREDENTIALS)\n"
     ]
    },
    {
     "name": "stdout",
     "output_type": "stream",
     "text": [
      "Retrieved data: 100 posts\n"
     ]
    },
    {
     "name": "stderr",
     "output_type": "stream",
     "text": [
      "100it [00:51,  1.95it/s]\n"
     ]
    },
    {
     "data": {
      "text/html": [
       "<div>\n",
       "<style scoped>\n",
       "    .dataframe tbody tr th:only-of-type {\n",
       "        vertical-align: middle;\n",
       "    }\n",
       "\n",
       "    .dataframe tbody tr th {\n",
       "        vertical-align: top;\n",
       "    }\n",
       "\n",
       "    .dataframe thead th {\n",
       "        text-align: right;\n",
       "    }\n",
       "</style>\n",
       "<table border=\"1\" class=\"dataframe\">\n",
       "  <thead>\n",
       "    <tr style=\"text-align: right;\">\n",
       "      <th></th>\n",
       "      <th>post_id</th>\n",
       "      <th>english_summary</th>\n",
       "      <th>part</th>\n",
       "      <th>paragraph</th>\n",
       "      <th>tokens</th>\n",
       "      <th>texts</th>\n",
       "      <th>rouge1</th>\n",
       "      <th>rougeL</th>\n",
       "      <th>rougeLsum</th>\n",
       "      <th>rougeNorm</th>\n",
       "    </tr>\n",
       "  </thead>\n",
       "  <tbody>\n",
       "    <tr>\n",
       "      <th>0</th>\n",
       "      <td>7472062c-1335-488e-b319-4f2e73da19b5</td>\n",
       "      <td>Meat processors are in talks with the governme...</td>\n",
       "      <td>0</td>\n",
       "      <td>0</td>\n",
       "      <td>[b, ', Getty, Images, Poultry, producers, said...</td>\n",
       "      <td>b' Getty Images \\nPoultry producers said the s...</td>\n",
       "      <td>0.285714</td>\n",
       "      <td>0.139535</td>\n",
       "      <td>0.245847</td>\n",
       "      <td>0.940199</td>\n",
       "    </tr>\n",
       "    <tr>\n",
       "      <th>1</th>\n",
       "      <td>7472062c-1335-488e-b319-4f2e73da19b5</td>\n",
       "      <td>Meat processors are in talks with the governme...</td>\n",
       "      <td>1</td>\n",
       "      <td>0</td>\n",
       "      <td>[``, This, crisis, highlights, the, fact, that...</td>\n",
       "      <td>\"This crisis highlights the fact that the Brit...</td>\n",
       "      <td>0.225256</td>\n",
       "      <td>0.116041</td>\n",
       "      <td>0.191126</td>\n",
       "      <td>0.781895</td>\n",
       "    </tr>\n",
       "    <tr>\n",
       "      <th>2</th>\n",
       "      <td>7472062c-1335-488e-b319-4f2e73da19b5</td>\n",
       "      <td>Meat processors are in talks with the governme...</td>\n",
       "      <td>2</td>\n",
       "      <td>1</td>\n",
       "      <td>[*, *, Gas, uses, *, *, Carbon, dioxide, is, u...</td>\n",
       "      <td>**Gas uses**\\nCarbon dioxide is used when slau...</td>\n",
       "      <td>0.240283</td>\n",
       "      <td>0.148410</td>\n",
       "      <td>0.183746</td>\n",
       "      <td>1.000000</td>\n",
       "    </tr>\n",
       "    <tr>\n",
       "      <th>0</th>\n",
       "      <td>c5c108fa-9b42-4fc1-aa2b-aedbafb0f513</td>\n",
       "      <td>A new type of recyclable meat packaging tray d...</td>\n",
       "      <td>0</td>\n",
       "      <td>0</td>\n",
       "      <td>[b, ', *, *, A, new, type, of, recyclable, mea...</td>\n",
       "      <td>b' \\n**A new type of recyclable meat packaging...</td>\n",
       "      <td>0.708108</td>\n",
       "      <td>0.572973</td>\n",
       "      <td>0.664865</td>\n",
       "      <td>1.000000</td>\n",
       "    </tr>\n",
       "    <tr>\n",
       "      <th>1</th>\n",
       "      <td>c5c108fa-9b42-4fc1-aa2b-aedbafb0f513</td>\n",
       "      <td>A new type of recyclable meat packaging tray d...</td>\n",
       "      <td>1</td>\n",
       "      <td>0</td>\n",
       "      <td>[He, said, :, ``, You, can, turn, it, upside, ...</td>\n",
       "      <td>He said: \"You can turn it upside down, shake i...</td>\n",
       "      <td>0.365591</td>\n",
       "      <td>0.150538</td>\n",
       "      <td>0.322581</td>\n",
       "      <td>0.262731</td>\n",
       "    </tr>\n",
       "  </tbody>\n",
       "</table>\n",
       "</div>"
      ],
      "text/plain": [
       "                                post_id  \\\n",
       "0  7472062c-1335-488e-b319-4f2e73da19b5   \n",
       "1  7472062c-1335-488e-b319-4f2e73da19b5   \n",
       "2  7472062c-1335-488e-b319-4f2e73da19b5   \n",
       "0  c5c108fa-9b42-4fc1-aa2b-aedbafb0f513   \n",
       "1  c5c108fa-9b42-4fc1-aa2b-aedbafb0f513   \n",
       "\n",
       "                                     english_summary part paragraph  \\\n",
       "0  Meat processors are in talks with the governme...    0         0   \n",
       "1  Meat processors are in talks with the governme...    1         0   \n",
       "2  Meat processors are in talks with the governme...    2         1   \n",
       "0  A new type of recyclable meat packaging tray d...    0         0   \n",
       "1  A new type of recyclable meat packaging tray d...    1         0   \n",
       "\n",
       "                                              tokens  \\\n",
       "0  [b, ', Getty, Images, Poultry, producers, said...   \n",
       "1  [``, This, crisis, highlights, the, fact, that...   \n",
       "2  [*, *, Gas, uses, *, *, Carbon, dioxide, is, u...   \n",
       "0  [b, ', *, *, A, new, type, of, recyclable, mea...   \n",
       "1  [He, said, :, ``, You, can, turn, it, upside, ...   \n",
       "\n",
       "                                               texts    rouge1    rougeL  \\\n",
       "0  b' Getty Images \\nPoultry producers said the s...  0.285714  0.139535   \n",
       "1  \"This crisis highlights the fact that the Brit...  0.225256  0.116041   \n",
       "2  **Gas uses**\\nCarbon dioxide is used when slau...  0.240283  0.148410   \n",
       "0  b' \\n**A new type of recyclable meat packaging...  0.708108  0.572973   \n",
       "1  He said: \"You can turn it upside down, shake i...  0.365591  0.150538   \n",
       "\n",
       "   rougeLsum  rougeNorm  \n",
       "0   0.245847   0.940199  \n",
       "1   0.191126   0.781895  \n",
       "2   0.183746   1.000000  \n",
       "0   0.664865   1.000000  \n",
       "1   0.322581   0.262731  "
      ]
     },
     "execution_count": 3,
     "metadata": {},
     "output_type": "execute_result"
    }
   ],
   "source": [
    "texts = []\n",
    "\n",
    "for entry in load_data(\n",
    "        columns=['post_id', 'english_content_url', 'english_summary'],\n",
    "        window=256,\n",
    "        where='dataset = \"manual_summary\"',\n",
    "        limit=100,\n",
    "        db=1\n",
    "    ):\n",
    "\n",
    "    content = entry['english_content']\n",
    "    \n",
    "    rouge = [scorer.score(entry['english_summary'], part) for part in entry['english_content']['texts']]\n",
    "    for m in metrics:\n",
    "        content[m] = [s[m].fmeasure for s in rouge]\n",
    "\n",
    "    content = pd.DataFrame(content, columns=['post_id', 'english_summary'] + list(content.keys()))\n",
    "    content['post_id']         = entry['post_id']\n",
    "    content['english_summary'] = entry['english_summary']\n",
    "\n",
    "    texts.append(content)\n",
    "\n",
    "texts = pd.concat(texts)\n",
    "texts['rougeNorm'] = 0.\n",
    "for post_id in texts.post_id.unique():\n",
    "    mask = texts.post_id == post_id\n",
    "    score = texts['rougeL'].values[mask]\n",
    "    texts.loc[mask, 'rougeNorm'] = score / score.max()\n",
    "\n",
    "texts.head()"
   ]
  },
  {
   "cell_type": "code",
   "execution_count": 4,
   "id": "4fd19069-5205-47d1-a763-f01ac4325d17",
   "metadata": {},
   "outputs": [
    {
     "name": "stdout",
     "output_type": "stream",
     "text": [
      "SUMMARY: A new type of recyclable meat packaging tray designed by a Swansea University student could save thousands of tonnes in plastic waste. \n",
      "In partnership with packaging manufacturers Klöckner Pentaplast, the design of the meat tray without a separate piece of absorbent plastic padding underneath is already being used by leading UK food suppliers and retailers, including Sainsbury's and Asda. The meat tray is 100% recyclable and allows consumers to look at meat from all angles through the clear plastic. The design allows moisture into specially designed wells, but would not let it back out.\n",
      "\n",
      "The packaging can then be washed under a tap, meaning the plastic is chemically and biologically safe to be recycled along with other household items, as per the designer Alaa Alaizoki. The technology has only been patented for use in food packaging, but Mr Alaizoki said it could have many more uses.\n",
      "\n",
      "MOST SIMILAR PART: b' \n",
      "**A new type of recyclable meat packaging tray designed by a Swansea University student could save thousands of tonnes in plastic waste.** \n",
      "Alaa Alaizoki, who is studying for an engineering doctorate, has created a meat tray without a separate piece of absorbent plastic padding underneath.\n",
      "Mr Alaizoki said the technology could be used in other areas, like nappies.\n",
      "Meat Promotion Wales said consumers wanted to know that food was made in an \"environmentally responsible way\".\n",
      "About 800,000 tonnes of UK meat packaging plastic waste is produced each year,\n",
      "Between 5% and 8% of this waste comes from the absorbent padding.\n",
      "In partnership with packaging manufacturers Kl\\xc3\\xb6ckner Pentaplast, the design is already being used by leading UK food suppliers and retailers, including Sainsbury\\'s and Asda.\n",
      "Mr Alaizoki\\'s meat tray is 100% recyclable and allows consumers to look at meat from all angles through clear plastic.\n",
      "He said: \"Traditional padding works similarly to nappies or sanitary towels, by drawing in moisture and converting it into a gel which cannot physically leak back out into the meat.\"\n",
      "He said his design allowed moisture into specially designed wells, but would not let it back out.\n",
      "The packaging can then be washed under a tap, meaning the plastic is chemically and biologically safe to be recycled along with other household items.\n",
      "\n",
      "\n"
     ]
    },
    {
     "data": {
      "text/html": [
       "<div>\n",
       "<style scoped>\n",
       "    .dataframe tbody tr th:only-of-type {\n",
       "        vertical-align: middle;\n",
       "    }\n",
       "\n",
       "    .dataframe tbody tr th {\n",
       "        vertical-align: top;\n",
       "    }\n",
       "\n",
       "    .dataframe thead th {\n",
       "        text-align: right;\n",
       "    }\n",
       "</style>\n",
       "<table border=\"1\" class=\"dataframe\">\n",
       "  <thead>\n",
       "    <tr style=\"text-align: right;\">\n",
       "      <th></th>\n",
       "      <th>post_id</th>\n",
       "      <th>english_summary</th>\n",
       "      <th>part</th>\n",
       "      <th>paragraph</th>\n",
       "      <th>tokens</th>\n",
       "      <th>texts</th>\n",
       "      <th>rouge1</th>\n",
       "      <th>rougeL</th>\n",
       "      <th>rougeLsum</th>\n",
       "      <th>rougeNorm</th>\n",
       "    </tr>\n",
       "  </thead>\n",
       "  <tbody>\n",
       "    <tr>\n",
       "      <th>0</th>\n",
       "      <td>c5c108fa-9b42-4fc1-aa2b-aedbafb0f513</td>\n",
       "      <td>A new type of recyclable meat packaging tray d...</td>\n",
       "      <td>0</td>\n",
       "      <td>0</td>\n",
       "      <td>[b, ', *, *, A, new, type, of, recyclable, mea...</td>\n",
       "      <td>b' \\n**A new type of recyclable meat packaging...</td>\n",
       "      <td>0.708108</td>\n",
       "      <td>0.572973</td>\n",
       "      <td>0.664865</td>\n",
       "      <td>1.000000</td>\n",
       "    </tr>\n",
       "    <tr>\n",
       "      <th>1</th>\n",
       "      <td>c5c108fa-9b42-4fc1-aa2b-aedbafb0f513</td>\n",
       "      <td>A new type of recyclable meat packaging tray d...</td>\n",
       "      <td>1</td>\n",
       "      <td>0</td>\n",
       "      <td>[He, said, :, ``, You, can, turn, it, upside, ...</td>\n",
       "      <td>He said: \"You can turn it upside down, shake i...</td>\n",
       "      <td>0.365591</td>\n",
       "      <td>0.150538</td>\n",
       "      <td>0.322581</td>\n",
       "      <td>0.262731</td>\n",
       "    </tr>\n",
       "    <tr>\n",
       "      <th>2</th>\n",
       "      <td>c5c108fa-9b42-4fc1-aa2b-aedbafb0f513</td>\n",
       "      <td>A new type of recyclable meat packaging tray d...</td>\n",
       "      <td>2</td>\n",
       "      <td>0</td>\n",
       "      <td>[``, The, lamb, and, beef, sector, in, Wales, ...</td>\n",
       "      <td>\"The lamb and beef sector in Wales is renowned...</td>\n",
       "      <td>0.148936</td>\n",
       "      <td>0.074468</td>\n",
       "      <td>0.095745</td>\n",
       "      <td>0.129968</td>\n",
       "    </tr>\n",
       "  </tbody>\n",
       "</table>\n",
       "</div>"
      ],
      "text/plain": [
       "                                post_id  \\\n",
       "0  c5c108fa-9b42-4fc1-aa2b-aedbafb0f513   \n",
       "1  c5c108fa-9b42-4fc1-aa2b-aedbafb0f513   \n",
       "2  c5c108fa-9b42-4fc1-aa2b-aedbafb0f513   \n",
       "\n",
       "                                     english_summary part paragraph  \\\n",
       "0  A new type of recyclable meat packaging tray d...    0         0   \n",
       "1  A new type of recyclable meat packaging tray d...    1         0   \n",
       "2  A new type of recyclable meat packaging tray d...    2         0   \n",
       "\n",
       "                                              tokens  \\\n",
       "0  [b, ', *, *, A, new, type, of, recyclable, mea...   \n",
       "1  [He, said, :, ``, You, can, turn, it, upside, ...   \n",
       "2  [``, The, lamb, and, beef, sector, in, Wales, ...   \n",
       "\n",
       "                                               texts    rouge1    rougeL  \\\n",
       "0  b' \\n**A new type of recyclable meat packaging...  0.708108  0.572973   \n",
       "1  He said: \"You can turn it upside down, shake i...  0.365591  0.150538   \n",
       "2  \"The lamb and beef sector in Wales is renowned...  0.148936  0.074468   \n",
       "\n",
       "   rougeLsum  rougeNorm  \n",
       "0   0.664865   1.000000  \n",
       "1   0.322581   0.262731  \n",
       "2   0.095745   0.129968  "
      ]
     },
     "execution_count": 4,
     "metadata": {},
     "output_type": "execute_result"
    }
   ],
   "source": [
    "post_id = texts.post_id.unique()[1]\n",
    "j = texts[texts.post_id == post_id]['rougeNorm'].values.argmax()\n",
    "\n",
    "print('SUMMARY:', texts[texts.post_id == post_id]['english_summary'].values[j])\n",
    "print()\n",
    "print('MOST SIMILAR PART:', texts[texts.post_id == post_id]['texts'].values[j])\n",
    "print()\n",
    "texts[texts.post_id == post_id]"
   ]
  },
  {
   "cell_type": "code",
   "execution_count": 5,
   "id": "ee968e88-5c61-4386-b600-076622be05c4",
   "metadata": {},
   "outputs": [
    {
     "data": {
      "text/plain": [
       "array([[<Axes: title={'center': 'rouge1'}>,\n",
       "        <Axes: title={'center': 'rougeL'}>],\n",
       "       [<Axes: title={'center': 'rougeLsum'}>,\n",
       "        <Axes: title={'center': 'rougeNorm'}>]], dtype=object)"
      ]
     },
     "execution_count": 5,
     "metadata": {},
     "output_type": "execute_result"
    },
    {
     "data": {
      "image/png": "[encoded data removed]",
      "text/plain": [
       "<Figure size 640x480 with 4 Axes>"
      ]
     },
     "metadata": {},
     "output_type": "display_data"
    }
   ],
   "source": [
    "texts.hist()"
   ]
  },
  {
   "cell_type": "code",
   "execution_count": 6,
   "id": "3ae78ddf-7092-4156-8b15-f039134d6fd3",
   "metadata": {},
   "outputs": [
    {
     "data": {
      "text/plain": [
       "<Axes: xlabel='partNorm'>"
      ]
     },
     "execution_count": 6,
     "metadata": {},
     "output_type": "execute_result"
    },
    {
     "data": {
      "image/png": "[encoded data removed]",
      "text/plain": [
       "<Figure size 640x480 with 1 Axes>"
      ]
     },
     "metadata": {},
     "output_type": "display_data"
    }
   ],
   "source": [
    "texts['partNorm'] = 0.\n",
    "\n",
    "for post_id in texts.post_id.unique():\n",
    "    mask = texts.post_id == post_id\n",
    "    score = texts['part'].values[mask].astype(int)\n",
    "    texts.loc[mask, 'partNorm'] = score / score.max()\n",
    "\n",
    "texts['partNorm'] = pd.cut(texts['partNorm'], \n",
    "    bins=[-.01, .1, .2, .3, .4, .5, .6, .7, .8, .9, 1.],\n",
    "    labels=[0, 1, 2, 3, 4, 5, 6, 7, 8, 9]\n",
    ")\n",
    "\n",
    "texts[['partNorm', 'rougeNorm']].groupby('partNorm', observed=False).mean().plot()"
   ]
  }
 ],
 "metadata": {
  "kernelspec": {
   "display_name": "Python 3 (ipykernel)",
   "language": "python",
   "name": "python3"
  },
  "language_info": {
   "codemirror_mode": {
    "name": "ipython",
    "version": 3
   },
   "file_extension": ".py",
   "mimetype": "text/x-python",
   "name": "python",
   "nbconvert_exporter": "python",
   "pygments_lexer": "ipython3",
   "version": "3.10.12"
  }
 },
 "nbformat": 4,
 "nbformat_minor": 5
}
