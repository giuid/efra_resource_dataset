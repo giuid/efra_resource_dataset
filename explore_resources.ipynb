{
 "cells": [
  {
   "cell_type": "code",
   "execution_count": 1,
   "metadata": {},
   "outputs": [],
   "source": [
    "import pandas as pd\n",
    "import os, json\n",
    "os.environ['TRANSFORMERS_CACHE'] = '/home/francomaria.nardini/raid/guidorocchietti/.cache/huggingface'\n"
   ]
  },
  {
   "cell_type": "markdown",
   "metadata": {},
   "source": [
    "LOAD LEPARD DATASET"
   ]
  },
  {
   "cell_type": "code",
   "execution_count": 2,
   "metadata": {},
   "outputs": [
    {
     "name": "stderr",
     "output_type": "stream",
     "text": [
      "/home/francomaria.nardini/guidorocchietti/miniconda3/lib/python3.12/site-packages/tqdm/auto.py:21: TqdmWarning: IProgress not found. Please update jupyter and ipywidgets. See https://ipywidgets.readthedocs.io/en/stable/user_install.html\n",
      "  from .autonotebook import tqdm as notebook_tqdm\n",
      "Downloading readme: 100%|██████████| 2.44k/2.44k [00:00<00:00, 23.5MB/s]\n"
     ]
    }
   ],
   "source": [
    "from datasets import load_dataset\n",
    "lepard = load_dataset(\"rmahari/LePaRD\")\n",
    "lepard_df = lepard['train'].to_pandas()\n",
    "with open('/home/francomaria.nardini/raid/guidorocchietti/data/LePaRD/src/model/data/passage_dict.json') as f:\n",
    "    passage_dict = json.load(f)\n",
    "passage_df = pd.DataFrame(passage_dict)"
   ]
  },
  {
   "cell_type": "markdown",
   "metadata": {},
   "source": [
    "In this dataset the destination_context field is the query to submit while the passage_id is the target"
   ]
  },
  {
   "cell_type": "code",
   "execution_count": 7,
   "metadata": {},
   "outputs": [
    {
     "name": "stdout",
     "output_type": "stream",
     "text": [
      "Lepard Df\n",
      "Length of LePaRD: 22744882\n",
      "Unique passage_id in LePaRD: 3919280\n",
      "Unique destination contexts in LePaRD: 6825665\n",
      "Passage Df\n",
      "Length of Passage: 3972431\n",
      "Unique data in Passage: 3752464\n"
     ]
    }
   ],
   "source": [
    "print('Lepard Df')\n",
    "#print(lepard_df.head())\n",
    "print('Length of LePaRD:', len(lepard_df))\n",
    "print('Unique passage_id in LePaRD:', len(lepard_df['passage_id'].unique()))\n",
    "print('Unique destination contexts in LePaRD:', len(lepard_df['destination_context'].unique()))\n",
    "\n",
    "print('Passage Df')\n",
    "#print(passage_df.head())\n",
    "print('Length of Passage:', len(passage_df))\n",
    "print('Unique data in Passage:', len(passage_df['data'].unique()))\n"
   ]
  },
  {
   "cell_type": "code",
   "execution_count": 8,
   "metadata": {},
   "outputs": [
    {
     "name": "stdout",
     "output_type": "stream",
     "text": [
      "Mean length of destination contexts (words) in LePaRD: 115.7487359134244\n",
      "Mean length of passages (words) in Passage: 39.110831377562\n"
     ]
    }
   ],
   "source": [
    "print('Mean length of destination contexts (words) in LePaRD:', lepard_df['destination_context'].apply(lambda x: len(x.split())).mean())\n",
    "print('Mean length of passages (words) in Passage:', passage_df['data'].apply(lambda x: len(x.split())).mean())"
   ]
  },
  {
   "cell_type": "markdown",
   "metadata": {},
   "source": [
    "CUAD Dataset"
   ]
  },
  {
   "cell_type": "code",
   "execution_count": 9,
   "metadata": {},
   "outputs": [
    {
     "name": "stderr",
     "output_type": "stream",
     "text": [
      "/home/francomaria.nardini/guidorocchietti/miniconda3/lib/python3.12/site-packages/datasets/load.py:1486: FutureWarning: The repository for theatticusproject/cuad-qa contains custom code which must be executed to correctly load the dataset. You can inspect the repository content at https://hf.co/datasets/theatticusproject/cuad-qa\n",
      "You can avoid this message in future by passing the argument `trust_remote_code=True`.\n",
      "Passing `trust_remote_code=True` will be mandatory to load this dataset from the next major release of `datasets`.\n",
      "  warnings.warn(\n",
      "Downloading builder script: 100%|██████████| 5.19k/5.19k [00:00<00:00, 17.5MB/s]\n",
      "Downloading readme: 100%|██████████| 15.5k/15.5k [00:00<00:00, 38.9MB/s]\n"
     ]
    }
   ],
   "source": [
    "cuad = load_dataset(\"theatticusproject/cuad-qa\")\n",
    "cuad_df = cuad['train'].to_pandas()"
   ]
  },
  {
   "cell_type": "code",
   "execution_count": 10,
   "metadata": {},
   "outputs": [
    {
     "name": "stdout",
     "output_type": "stream",
     "text": [
      "Cuad Df\n",
      "Length of Cuad: 22450\n",
      "Unique context in Cuad: 407\n",
      "Unique question in Cuad: 41\n"
     ]
    }
   ],
   "source": [
    "print('Cuad Df')\n",
    "#print(cuad_df.head())\n",
    "print('Length of Cuad:', len(cuad_df))\n",
    "print('Unique context in Cuad:', len(cuad_df['context'].unique()))\n",
    "print('Unique question in Cuad:', len(cuad_df['question'].unique()))\n"
   ]
  },
  {
   "cell_type": "code",
   "execution_count": 12,
   "metadata": {},
   "outputs": [
    {
     "name": "stderr",
     "output_type": "stream",
     "text": [
      "/home/francomaria.nardini/guidorocchietti/miniconda3/lib/python3.12/site-packages/datasets/load.py:1486: FutureWarning: The repository for big_patent contains custom code which must be executed to correctly load the dataset. You can inspect the repository content at https://hf.co/datasets/big_patent\n",
      "You can avoid this message in future by passing the argument `trust_remote_code=True`.\n",
      "Passing `trust_remote_code=True` will be mandatory to load this dataset from the next major release of `datasets`.\n",
      "  warnings.warn(\n"
     ]
    }
   ],
   "source": [
    "big_patent = load_dataset(\"big_patent\")\n",
    "big_patent_df = big_patent['train'].to_pandas()"
   ]
  },
  {
   "cell_type": "code",
   "execution_count": 15,
   "metadata": {},
   "outputs": [
    {
     "name": "stdout",
     "output_type": "stream",
     "text": [
      "Big Patent Df\n",
      "Length of Big Patent: 1207222\n",
      "Unique description in Big Patent: 1205576\n",
      "Unique summary in Big Patent: 920841\n"
     ]
    }
   ],
   "source": [
    "print('Big Patent Df')\n",
    "#print(big_patent_df.head())    \n",
    "print('Length of Big Patent:', len(big_patent_df))\n",
    "print('Unique description in Big Patent:', len(big_patent_df['description'].unique()))\n",
    "print('Unique summary in Big Patent:', len(big_patent_df['abstract'].unique()))"
   ]
  }
 ],
 "metadata": {
  "kernelspec": {
   "display_name": "base",
   "language": "python",
   "name": "python3"
  },
  "language_info": {
   "codemirror_mode": {
    "name": "ipython",
    "version": 3
   },
   "file_extension": ".py",
   "mimetype": "text/x-python",
   "name": "python",
   "nbconvert_exporter": "python",
   "pygments_lexer": "ipython3",
   "version": "3.12.3"
  }
 },
 "nbformat": 4,
 "nbformat_minor": 2
}
